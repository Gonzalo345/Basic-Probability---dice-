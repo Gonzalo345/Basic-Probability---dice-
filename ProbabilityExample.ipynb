import random
diceA = [] 
diceB = []
for i in range(1000000):
    diceA.append(random.randint(1,6))
    diceB.append(random.randint(1,6))
#print(diceA)
#print(diceB)
suma = 0
num = [0 for i in range(16)]
for i in range(1000000):
    suma = (diceA[i] + diceB[i]) 
    for j in range (14):
        if suma == j:
            #print("la suma es ", suma,"de", diceA[i],diceB[i]," se anade a ",j) 
            num[j] = num[j] + 1
#print(num)
print("Veces 2: ", num[2])
print("Veces 3: ", num[3])
print("Veces 4: ", num[4])
print("Veces 5: ", num[5])
print("Veces 6: ", num[6])
print("Veces 7: ", num[7])
print("Veces 8: ", num[8])
print("Veces 9: ", num[9])
print("Veces 10: ", num[10])
print("Veces 11: ", num[11])
print("Veces 12: ", num[12])
print("La probabilidad de que salga 6 es: ", num[6]/1000000*100,"%")
